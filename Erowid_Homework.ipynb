{
  "nbformat": 4,
  "nbformat_minor": 0,
  "metadata": {
    "colab": {
      "provenance": [],
      "authorship_tag": "ABX9TyMMCoO8VcbcmpFcN23fwmyi",
      "include_colab_link": true
    },
    "kernelspec": {
      "name": "python3",
      "display_name": "Python 3"
    },
    "language_info": {
      "name": "python"
    }
  },
  "cells": [
    {
      "cell_type": "markdown",
      "metadata": {
        "id": "view-in-github",
        "colab_type": "text"
      },
      "source": [
        "<a href=\"https://colab.research.google.com/github/caseym7875/DSCI-478-Erowid/blob/main/Erowid_Homework.ipynb\" target=\"_parent\"><img src=\"https://colab.research.google.com/assets/colab-badge.svg\" alt=\"Open In Colab\"/></a>"
      ]
    },
    {
      "cell_type": "code",
      "execution_count": null,
      "metadata": {
        "colab": {
          "base_uri": "https://localhost:8080/"
        },
        "id": "rJ-ysvlajQGk",
        "outputId": "9e3e95f3-ccb8-439b-acce-befb5d3f6a77"
      },
      "outputs": [
        {
          "output_type": "stream",
          "name": "stdout",
          "text": [
            "Requirement already satisfied: hf_xet in /usr/local/lib/python3.11/dist-packages (1.0.3)\n"
          ]
        }
      ],
      "source": [
        "import pandas as pd\n",
        "from transformers import pipeline\n",
        "!pip install hf_xet\n",
        "import hf_xet\n",
        "from transformers import AutoTokenizer, AutoModelForSequenceClassification, DistilBertForSequenceClassification, DistilBertTokenizer\n",
        "import numpy as np"
      ]
    },
    {
      "cell_type": "code",
      "source": [
        "reports = pd.read_csv(\"https://raw.githubusercontent.com/caseym7875/DSCI-478-Erowid/refs/heads/main/Erowid_Trip_Reports%20(Partitioned).csv\")"
      ],
      "metadata": {
        "id": "Ot3N74GzjWjv"
      },
      "execution_count": null,
      "outputs": []
    },
    {
      "cell_type": "code",
      "source": [
        "ketamino = reports.iloc[2][\"Report Text\"]"
      ],
      "metadata": {
        "id": "N1DIUO2MjkqO"
      },
      "execution_count": null,
      "outputs": []
    },
    {
      "cell_type": "code",
      "source": [
        "mushroomino = reports.iloc[16][\"Report Text\"]\n",
        "mushroomino"
      ],
      "metadata": {
        "colab": {
          "base_uri": "https://localhost:8080/",
          "height": 89
        },
        "id": "4s2lzp-sxZ4X",
        "outputId": "d8a8dd22-3062-49ea-cd19-0a4144540788"
      },
      "execution_count": null,
      "outputs": [
        {
          "output_type": "execute_result",
          "data": {
            "text/plain": [
              "\"DOSE:T+ 0:001 goralMushrooms - P. cubensis(dried)T+ 2:00smokedCannabisT+ 4:451 cig.smokedCannabisBODY WEIGHT:130 lbI will begin with my situation. The last few months have been a real test for me at this point in my life. In recession jobs are scarce and times are tough. Everyone knows how life can seemingly just take it all out onyouindividually and in the depths of unfortunate circumstances your world can begin to fall apart and break down. Well this is where I stand. And although there are many warnings about using psychedelics during an emotional crisis or psychological upheaval, I believe that sometimes this is best time to take advantage of nature's tools.I have used mushrooms more times in my life then I can count so this would obviously be a large influence on my confidence to use them in times such as these. I am very familiar with the effects.I currently live with my g/f -A- and I am definately happy with my relationship. I haven't had a job since last April and I have been struggling for the extra income for months. My family situation has always been stable and concidered normal although there has always been a lack of Love in my experience of life due to a lack of a deep emotional connection with my family. As a result it has been fairly easy living on opposite sides of the continent for the last year or so, even though I miss them like crazy!It has probably been a month or so since my last threshold mushroom trip but it has been over a year since my last shulgin 4. The last few months have been such a struggle that I hesitated to re-unite with my long lost spiritual compass. But last night I decided it was time once again. I had had the most emotionally devastating day I have had in a while, the culmination of all my recent suffering came to the surface is a fight with my g/f through email while she was at work. I finally broke down and actually cried tears of pain for the first time in years. As a familiar psychonaut I am usually in a state of peace, but I quickly realised that no matter how much I try to remember a psychedelic experience, they are always fleeting. Their influence in life, although often permanent, is simultaneously just as impermanent.At around 6:00pm I started handling and chewing on pieces of the mushrooms. They are a stronger batch then usual, I was told they were mexican cubensis grown in mexico. I like to handle them prior to dedicating myself to a full visionary experience because I find that the anxiety during the 'come on' is much less gripping and overwhelming, and also I can get a feel for them and sort of test if it's the right night for them. I don't always ingest them, as I didn't last night. I discovered a long time ago that if I collect the dried powder and place a clump of it under my tongue, it can actually boost an experience by 0.5 gram every time. Estimated of course. After handling them and chewing about 1 gram, I placed two clumps, intermittently, under my tongue and waited. I usually hold it in there for about 20 minutes while I wait for the visuals to start, then I spit it out. I do now swallow the dried mushroom due to severe stomsch issues digesting them.By 7:30 my visuals were peaking. My g/f got home from work at 5:00pm and she sat with me and tried chewing on some for the first time. She has been very interested in the experience but she has never had a psychedelic experience before. As I laid with her I noticed none of the typical mystical visionary states that I am used to. I noticed strong visuals that were intensified when I smoked some watermelon kush (cannabis). But my ego was intact and we watched That 70's Show for a while. Due to our fight earlier we hardly spoke and just cuddled for the rest of the night.At about 9:45pm my g/f -A- went to bed. My visuals were weaker at this point, no melting or merging, but the walls were still slightly breathing and my perception was still periferally acute and aware. At about 10:45pm I rolled a stronger joint of sugar shack with a collection of THC resin crystals scraped out of the bud buster added. This propelled me into a full-on visionary state twice the strength of the origional effects.Since my g/f was sleeping I grabbed the ipod and put on The Dark Side Of The Moon. This is my DMT album! I have hadmanybeautiful mushroom trips listening to this album and I find familiar beauty during a trip is great for bringing the past positives into the now. And also music is the best means to enter a trance state.I closed my eyes and let the music guide the dancing visuals. Having only taken a smaller dose the intensity of the experience was certainly at it's weakest, and I highly doubt I would be capable of hitting a shulgin 4 on this dose again, but I did last night. Keeping my eyes closed and only hearing the music, I completely forgot about being in my body. The most beautiful images of blossoming balls of light exploding into waves circling and hugging me with the deepest Love I have ever felt. I felt the mushrooms working away at my ego...there was resistance at first but remembering the past experiences of complete egolessness made it easy for it to work away at it and I was once again beautified with the feeling of complete freedom from the concerns terrestrial matters. When I opened my eyes the paintings on the walls grew and shrank simultaneously, the floors waved and the walls expanded and contracted. But I did not experience the traditional fabric of eyeballs appearing out of thin air or other typical hallucinations of higher doses. This time I was granted the insight I sought. Usually the mushrooms tend to guide me towards cosmic knowledge and Universal understanding, along with the powerful emotions and Love of their multiple dimensions. I decided to look within and was enlightened as to what I discovered.I discovered that having had such an emotional distance from my family my whole life, along with a series of very unfortunate circumstanced with past relationships, I have developed a Love complex. In the absence of a deep meaningful human relationship people forget what it means to truly Love. And when Love does come along there are unconcious destructive tendencies that can elude one enough to silently destroy themselves from within. The mushrooms showed me the deep Love of the Universe and allowed me to feel that for my g/f as well. She had always Loved me on levels I could never understand. Or so I thought. I can understand. I just forgot that I could. With the ego washed away the insight into the self is magnificent. And I came to the conclusion that to conquer the self is to conquer the under-mind, the unconcious self. The spiritually conquered man is entirely aware, and this awareness is achieved by regarding natures tools, by a deep alteration of psyche.Sometimes when my world breaks down and seems shattered, my beliefs are compromised, my Love is in question and I'm down in the dumps, a psychedelic experience is exactly what is needed. I write this the day after my experience. I still have no job and no money but I have all the Love a man could ask for. I have a warm bed and a roof over my head. I have more then enough: myself and my human experience.It's not easy being a human being, it's only easy to ignore what it means to be a human being. It means to Love. It means to conquer and Love the self and to help and Love others. All others.Exp Year: 2011ExpID: 89173Gender: MaleAge at time of experience: 24Published: Jan 21, 2014Views: 3,310[View PDF (to print)] [View LaTeX (for geeks)]\\n[Swap\\xa0Dark/Light]Cannabis\\xa0(1), Mushrooms - P. cubensis\\xa0(66) : Alone\\xa0(16), Therapeutic Intent or Outcome\\xa0(49), Relationships\\xa0(44), Glowing Experiences\\xa0(4)\""
            ],
            "application/vnd.google.colaboratory.intrinsic+json": {
              "type": "string"
            }
          },
          "metadata": {},
          "execution_count": 45
        }
      ]
    },
    {
      "cell_type": "code",
      "source": [
        "#classifier = pipeline(\"sentiment-analysis\",model=\"siebert/sentiment-roberta-large-english\")\n",
        "classifier = pipeline(\"sentiment-analysis\",model=\"spacesedan/sentiment-analysis-longformer\")"
      ],
      "metadata": {
        "colab": {
          "base_uri": "https://localhost:8080/"
        },
        "id": "9UcYNI8rmNOV",
        "outputId": "6de1b2b7-bb34-40a3-f4e8-2e2edd8eaad4"
      },
      "execution_count": null,
      "outputs": [
        {
          "output_type": "stream",
          "name": "stderr",
          "text": [
            "Device set to use cpu\n"
          ]
        }
      ]
    },
    {
      "cell_type": "code",
      "source": [
        "classifier(ketamino)"
      ],
      "metadata": {
        "colab": {
          "base_uri": "https://localhost:8080/"
        },
        "id": "7PXqzoBim5rH",
        "outputId": "b1afdb5b-35f5-44e4-ad63-1d73b137c860"
      },
      "execution_count": null,
      "outputs": [
        {
          "output_type": "stream",
          "name": "stderr",
          "text": [
            "Initializing global attention on CLS token...\n",
            "Input ids are automatically padded to be a multiple of `config.attention_window`: 512\n"
          ]
        },
        {
          "output_type": "execute_result",
          "data": {
            "text/plain": [
              "[{'label': 'very negative', 'score': 0.5172325968742371}]"
            ]
          },
          "metadata": {},
          "execution_count": 31
        }
      ]
    },
    {
      "cell_type": "code",
      "source": [
        "#model_name = 'siebert/sentiment-roberta-large-english'\n",
        "model_name = 'spacesedan/sentiment-analysis-longformer'\n",
        "pt_model = AutoModelForSequenceClassification.from_pretrained(model_name)\n",
        "tokenizer = AutoTokenizer.from_pretrained(model_name)"
      ],
      "metadata": {
        "id": "vcgtWW4En4rN"
      },
      "execution_count": null,
      "outputs": []
    },
    {
      "cell_type": "code",
      "source": [
        "inputs = tokenizer(ketamino)"
      ],
      "metadata": {
        "id": "TxcGMhafoeDd"
      },
      "execution_count": null,
      "outputs": []
    },
    {
      "cell_type": "code",
      "source": [
        "classifier(mushroomino)"
      ],
      "metadata": {
        "colab": {
          "base_uri": "https://localhost:8080/"
        },
        "id": "35uN72KvvEaC",
        "outputId": "d4145937-1f5f-45f3-8748-4f7c19f1bf30"
      },
      "execution_count": null,
      "outputs": [
        {
          "output_type": "execute_result",
          "data": {
            "text/plain": [
              "[{'label': 'positive', 'score': 0.3715347945690155}]"
            ]
          },
          "metadata": {},
          "execution_count": 47
        }
      ]
    },
    {
      "cell_type": "code",
      "source": [
        "classifier = pipeline(\"sentiment-analysis\", model=\"siebert/sentiment-roberta-large-english\")\n",
        "\n",
        "def chunk_text(text, max_tokens=512, tokenizer=None):\n",
        "    words = text.split()\n",
        "    chunks = []\n",
        "    current = []\n",
        "    total_tokens = 0\n",
        "\n",
        "    for word in words:\n",
        "        if tokenizer:\n",
        "            tokens = tokenizer.tokenize(word)\n",
        "        else:\n",
        "            tokens = [word]\n",
        "        if total_tokens + len(tokens) > max_tokens:\n",
        "            chunks.append(\" \".join(current))\n",
        "            current = []\n",
        "            total_tokens = 0\n",
        "        current.append(word)\n",
        "        total_tokens += len(tokens)\n",
        "\n",
        "    if current:\n",
        "        chunks.append(\" \".join(current))\n",
        "    return chunks\n",
        "\n",
        "tokenizer = AutoTokenizer.from_pretrained(\"siebert/sentiment-roberta-large-english\")\n",
        "chunks = chunk_text(mushroomino, max_tokens=512, tokenizer=tokenizer)\n",
        "results = classifier(chunks)\n",
        "\n",
        "# Aggregate (simple example)\n",
        "labels = [r['label'] for r in results]\n",
        "scores = [r['score'] for r in results]\n",
        "avg_score = np.mean([score if label == \"POSITIVE\" else -score for label, score in zip(labels, scores)])\n",
        "\n",
        "print(\"Aggregated sentiment score:\", avg_score)\n"
      ],
      "metadata": {
        "colab": {
          "base_uri": "https://localhost:8080/"
        },
        "id": "sfWsvoUuuGaT",
        "outputId": "bbd2e4da-d99c-45a1-d685-b2064626fed8"
      },
      "execution_count": null,
      "outputs": [
        {
          "output_type": "stream",
          "name": "stderr",
          "text": [
            "Device set to use cpu\n"
          ]
        },
        {
          "output_type": "stream",
          "name": "stdout",
          "text": [
            "Aggregated sentiment score: 0.9980852454900742\n"
          ]
        }
      ]
    },
    {
      "cell_type": "code",
      "source": [
        "results"
      ],
      "metadata": {
        "colab": {
          "base_uri": "https://localhost:8080/"
        },
        "id": "89-OnoQ7umtu",
        "outputId": "dca7c885-8ffc-4e27-ecaa-d2dd23ba68be"
      },
      "execution_count": null,
      "outputs": [
        {
          "output_type": "execute_result",
          "data": {
            "text/plain": [
              "[{'label': 'POSITIVE', 'score': 0.9974287152290344},\n",
              " {'label': 'POSITIVE', 'score': 0.9976431727409363},\n",
              " {'label': 'POSITIVE', 'score': 0.9987768530845642},\n",
              " {'label': 'POSITIVE', 'score': 0.9984922409057617}]"
            ]
          },
          "metadata": {},
          "execution_count": 49
        }
      ]
    }
  ]
}